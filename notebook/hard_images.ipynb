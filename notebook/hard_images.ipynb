{
 "cells": [
  {
   "cell_type": "markdown",
   "id": "180d1d68-1623-4b66-bb03-9c74c9cf18d1",
   "metadata": {},
   "source": [
    "This notebook is used to display questions/images that are considered as hard/difficult"
   ]
  },
  {
   "cell_type": "code",
   "execution_count": 1,
   "id": "77b1fed6-5f10-4d87-8d2c-b09741b7b32a",
   "metadata": {},
   "outputs": [],
   "source": [
    "import json\n",
    "import os\n",
    "import pandas as pd\n",
    "import ipyplot\n",
    "from tools import url_to_image_id_map_helper\n",
    "from IPython.display import Image, HTML, display"
   ]
  },
  {
   "cell_type": "code",
   "execution_count": 2,
   "id": "7a4fee46-2c51-46e0-adcf-dcb2c7d252a8",
   "metadata": {},
   "outputs": [],
   "source": [
    "url_to_image_id_map = url_to_image_id_map_helper()"
   ]
  },
  {
   "cell_type": "markdown",
   "id": "65b779ef-1ee6-41e1-938c-7ae58a0baa10",
   "metadata": {},
   "source": [
    "First, set the `expr` to the experiment name:\n",
    "- dog3_non_random_with_init\n",
    "- dog3_non_random_from_scratch\n",
    "- dog3_random_with_init\n",
    "- birds"
   ]
  },
  {
   "cell_type": "code",
   "execution_count": 3,
   "id": "7281944b-375d-4e33-abc3-557f49c077ca",
   "metadata": {},
   "outputs": [],
   "source": [
    "expr = \"birds\""
   ]
  },
  {
   "cell_type": "code",
   "execution_count": 4,
   "id": "fc73a9be-79b7-4235-af19-193a31c9942d",
   "metadata": {},
   "outputs": [],
   "source": [
    "with open(os.path.join(\"results\", expr + \"_\" + \"tracker.json\")) as tracker_handle:\n",
    "    tracker = json.load(tracker_handle)"
   ]
  },
  {
   "cell_type": "code",
   "execution_count": 5,
   "id": "7cce77c0-50b8-408b-9935-7150b7eb4bd2",
   "metadata": {},
   "outputs": [],
   "source": [
    "hard_question_urls = [question.split(\",\")\n",
    "                      for question in tracker[\"hard\"]]\n",
    "labels = []\n",
    "for url in hard_question_urls:\n",
    "    if \"random\" in expr or \"bird\" in expr:\n",
    "        labels.append((url_to_image_id_map[url[0]]))\n",
    "    else:\n",
    "        labels.append((url_to_image_id_map[url[0]], url_to_image_id_map[url[1]]))"
   ]
  },
  {
   "cell_type": "code",
   "execution_count": 6,
   "id": "197929b0-fe3a-43f1-ba35-92bb33af2b03",
   "metadata": {},
   "outputs": [
    {
     "name": "stdout",
     "output_type": "stream",
     "text": [
      "Number of hard questions: 15\n"
     ]
    }
   ],
   "source": [
    "print(\"Number of hard questions:\", len(hard_question_urls))"
   ]
  },
  {
   "cell_type": "code",
   "execution_count": 7,
   "id": "590ba573-47e1-4028-8171-8c354847406f",
   "metadata": {},
   "outputs": [
    {
     "data": {
      "text/html": [
       "\n",
       "        <div class=\"row\">\n",
       "                <p>Hard Image Id: 44</p>\n",
       "                <p>Hard Image URL: ./Birds/44.jpg</p>\n",
       "                <img src=./Birds/44.jpg style=\"width:250px\"/>\n",
       "        </div>\n",
       "        "
      ],
      "text/plain": [
       "<IPython.core.display.HTML object>"
      ]
     },
     "metadata": {},
     "output_type": "display_data"
    },
    {
     "data": {
      "text/html": [
       "\n",
       "        <div class=\"row\">\n",
       "                <p>Hard Image Id: 37</p>\n",
       "                <p>Hard Image URL: ./Birds/37.jpg</p>\n",
       "                <img src=./Birds/37.jpg style=\"width:250px\"/>\n",
       "        </div>\n",
       "        "
      ],
      "text/plain": [
       "<IPython.core.display.HTML object>"
      ]
     },
     "metadata": {},
     "output_type": "display_data"
    },
    {
     "data": {
      "text/html": [
       "\n",
       "        <div class=\"row\">\n",
       "                <p>Hard Image Id: 40</p>\n",
       "                <p>Hard Image URL: ./Birds/40.jpg</p>\n",
       "                <img src=./Birds/40.jpg style=\"width:250px\"/>\n",
       "        </div>\n",
       "        "
      ],
      "text/plain": [
       "<IPython.core.display.HTML object>"
      ]
     },
     "metadata": {},
     "output_type": "display_data"
    },
    {
     "data": {
      "text/html": [
       "\n",
       "        <div class=\"row\">\n",
       "                <p>Hard Image Id: 46</p>\n",
       "                <p>Hard Image URL: ./Birds/46.jpg</p>\n",
       "                <img src=./Birds/46.jpg style=\"width:250px\"/>\n",
       "        </div>\n",
       "        "
      ],
      "text/plain": [
       "<IPython.core.display.HTML object>"
      ]
     },
     "metadata": {},
     "output_type": "display_data"
    },
    {
     "data": {
      "text/html": [
       "\n",
       "        <div class=\"row\">\n",
       "                <p>Hard Image Id: 38</p>\n",
       "                <p>Hard Image URL: ./Birds/38.jpg</p>\n",
       "                <img src=./Birds/38.jpg style=\"width:250px\"/>\n",
       "        </div>\n",
       "        "
      ],
      "text/plain": [
       "<IPython.core.display.HTML object>"
      ]
     },
     "metadata": {},
     "output_type": "display_data"
    },
    {
     "data": {
      "text/html": [
       "\n",
       "        <div class=\"row\">\n",
       "                <p>Hard Image Id: 7</p>\n",
       "                <p>Hard Image URL: ./Birds/7.jpg</p>\n",
       "                <img src=./Birds/7.jpg style=\"width:250px\"/>\n",
       "        </div>\n",
       "        "
      ],
      "text/plain": [
       "<IPython.core.display.HTML object>"
      ]
     },
     "metadata": {},
     "output_type": "display_data"
    },
    {
     "data": {
      "text/html": [
       "\n",
       "        <div class=\"row\">\n",
       "                <p>Hard Image Id: 34</p>\n",
       "                <p>Hard Image URL: ./Birds/34.jpg</p>\n",
       "                <img src=./Birds/34.jpg style=\"width:250px\"/>\n",
       "        </div>\n",
       "        "
      ],
      "text/plain": [
       "<IPython.core.display.HTML object>"
      ]
     },
     "metadata": {},
     "output_type": "display_data"
    },
    {
     "data": {
      "text/html": [
       "\n",
       "        <div class=\"row\">\n",
       "                <p>Hard Image Id: 45</p>\n",
       "                <p>Hard Image URL: ./Birds/45.jpg</p>\n",
       "                <img src=./Birds/45.jpg style=\"width:250px\"/>\n",
       "        </div>\n",
       "        "
      ],
      "text/plain": [
       "<IPython.core.display.HTML object>"
      ]
     },
     "metadata": {},
     "output_type": "display_data"
    },
    {
     "data": {
      "text/html": [
       "\n",
       "        <div class=\"row\">\n",
       "                <p>Hard Image Id: 11</p>\n",
       "                <p>Hard Image URL: ./Birds/11.jpg</p>\n",
       "                <img src=./Birds/11.jpg style=\"width:250px\"/>\n",
       "        </div>\n",
       "        "
      ],
      "text/plain": [
       "<IPython.core.display.HTML object>"
      ]
     },
     "metadata": {},
     "output_type": "display_data"
    },
    {
     "data": {
      "text/html": [
       "\n",
       "        <div class=\"row\">\n",
       "                <p>Hard Image Id: 35</p>\n",
       "                <p>Hard Image URL: ./Birds/35.jpg</p>\n",
       "                <img src=./Birds/35.jpg style=\"width:250px\"/>\n",
       "        </div>\n",
       "        "
      ],
      "text/plain": [
       "<IPython.core.display.HTML object>"
      ]
     },
     "metadata": {},
     "output_type": "display_data"
    },
    {
     "data": {
      "text/html": [
       "\n",
       "        <div class=\"row\">\n",
       "                <p>Hard Image Id: 98</p>\n",
       "                <p>Hard Image URL: ./Birds/98.jpg</p>\n",
       "                <img src=./Birds/98.jpg style=\"width:250px\"/>\n",
       "        </div>\n",
       "        "
      ],
      "text/plain": [
       "<IPython.core.display.HTML object>"
      ]
     },
     "metadata": {},
     "output_type": "display_data"
    },
    {
     "data": {
      "text/html": [
       "\n",
       "        <div class=\"row\">\n",
       "                <p>Hard Image Id: 9</p>\n",
       "                <p>Hard Image URL: ./Birds/9.jpg</p>\n",
       "                <img src=./Birds/9.jpg style=\"width:250px\"/>\n",
       "        </div>\n",
       "        "
      ],
      "text/plain": [
       "<IPython.core.display.HTML object>"
      ]
     },
     "metadata": {},
     "output_type": "display_data"
    },
    {
     "data": {
      "text/html": [
       "\n",
       "        <div class=\"row\">\n",
       "                <p>Hard Image Id: 42</p>\n",
       "                <p>Hard Image URL: ./Birds/42.jpg</p>\n",
       "                <img src=./Birds/42.jpg style=\"width:250px\"/>\n",
       "        </div>\n",
       "        "
      ],
      "text/plain": [
       "<IPython.core.display.HTML object>"
      ]
     },
     "metadata": {},
     "output_type": "display_data"
    },
    {
     "data": {
      "text/html": [
       "\n",
       "        <div class=\"row\">\n",
       "                <p>Hard Image Id: 112</p>\n",
       "                <p>Hard Image URL: ./Birds/112.jpg</p>\n",
       "                <img src=./Birds/112.jpg style=\"width:250px\"/>\n",
       "        </div>\n",
       "        "
      ],
      "text/plain": [
       "<IPython.core.display.HTML object>"
      ]
     },
     "metadata": {},
     "output_type": "display_data"
    },
    {
     "data": {
      "text/html": [
       "\n",
       "        <div class=\"row\">\n",
       "                <p>Hard Image Id: 43</p>\n",
       "                <p>Hard Image URL: ./Birds/43.jpg</p>\n",
       "                <img src=./Birds/43.jpg style=\"width:250px\"/>\n",
       "        </div>\n",
       "        "
      ],
      "text/plain": [
       "<IPython.core.display.HTML object>"
      ]
     },
     "metadata": {},
     "output_type": "display_data"
    }
   ],
   "source": [
    "for i in range(len(hard_question_urls)):\n",
    "    url = hard_question_urls[i][0] if \"Birds\" not in hard_question_urls[i][0] else \".\" + hard_question_urls[i][0]\n",
    "    if \"random\":\n",
    "        display(HTML(f\"\"\"\n",
    "        <div class=\"row\">\n",
    "                <p>Hard Image Id: {labels[i]}</p>\n",
    "                <p>Hard Image URL: {url}</p>\n",
    "                <img src={url} style=\"width:250px\"/>\n",
    "        </div>\n",
    "        \"\"\"))\n",
    "    else:\n",
    "        display(HTML(f\"\"\"\n",
    "        <div class=\"row\">\n",
    "                <p>Left (Hard) Image Id: {labels[i][0]}, Right Image Id: {labels[i][1]}</p>\n",
    "                <p>Left (Hard) Image URL: {hard_question_urls[i][0]}, Right Image URL: {hard_question_urls[i][1]}</p>\n",
    "                <img src={hard_question_urls[i][0]} style=\"width:250px\"/>\n",
    "                <img src={hard_question_urls[i][1]} style=\"width:250px\"/>\n",
    "        </div>\n",
    "        \"\"\"))"
   ]
  },
  {
   "cell_type": "code",
   "execution_count": null,
   "id": "7dfd3c48-90a4-4c22-9d05-6e207eb35b3f",
   "metadata": {},
   "outputs": [],
   "source": []
  }
 ],
 "metadata": {
  "kernelspec": {
   "display_name": "Python 3 (ipykernel)",
   "language": "python",
   "name": "python3"
  },
  "language_info": {
   "codemirror_mode": {
    "name": "ipython",
    "version": 3
   },
   "file_extension": ".py",
   "mimetype": "text/x-python",
   "name": "python",
   "nbconvert_exporter": "python",
   "pygments_lexer": "ipython3",
   "version": "3.8.12"
  }
 },
 "nbformat": 4,
 "nbformat_minor": 5
}
