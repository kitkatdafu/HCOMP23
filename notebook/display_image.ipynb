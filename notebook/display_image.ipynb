{
 "cells": [
  {
   "cell_type": "markdown",
   "id": "13037317-6eef-4c27-a070-f52e01b14337",
   "metadata": {},
   "source": [
    "This notebook is used to display an image in the dataset"
   ]
  },
  {
   "cell_type": "code",
   "execution_count": 1,
   "id": "53360a04-42cb-4f89-ac0a-7f2af34fc535",
   "metadata": {},
   "outputs": [],
   "source": [
    "import json\n",
    "import os\n",
    "import pandas as pd\n",
    "import ipyplot\n",
    "from tools import url_to_image_id_map_helper\n",
    "from IPython.display import Image, HTML, display"
   ]
  },
  {
   "cell_type": "markdown",
   "id": "993b93f6-f00f-45a2-9c5c-17174ef4f21c",
   "metadata": {},
   "source": [
    "First, set the `expr` to the experiment name:\n",
    "- dog3_non_random_with_init\n",
    "- dog3_non_random_from_scratch\n",
    "- dog3_random_with_init\n",
    "- birds"
   ]
  },
  {
   "cell_type": "code",
   "execution_count": 2,
   "id": "5f14612f-98d0-43de-945e-10130ce98807",
   "metadata": {},
   "outputs": [],
   "source": [
    "expr = \"birds\""
   ]
  },
  {
   "cell_type": "code",
   "execution_count": 3,
   "id": "7bccd4a9-5e92-439f-9cdd-42fdf5c39fb8",
   "metadata": {},
   "outputs": [],
   "source": [
    "with open(os.path.join(\"results\", expr + \"_\" + \"tracker.json\")) as tracker_handle:\n",
    "    tracker = json.load(tracker_handle)"
   ]
  },
  {
   "cell_type": "code",
   "execution_count": 4,
   "id": "315daf1a-c661-4639-aba4-436ed61d6912",
   "metadata": {},
   "outputs": [],
   "source": [
    "with open(os.path.join(\"results\", expr + \"_\" + \"worker.json\")) as worker_handle:\n",
    "    workers = json.load(worker_handle)"
   ]
  },
  {
   "cell_type": "code",
   "execution_count": 5,
   "id": "093b9ef2-4434-4a90-9e59-fa0c3fc2b466",
   "metadata": {},
   "outputs": [],
   "source": [
    "url_to_image_id_map = url_to_image_id_map_helper()"
   ]
  },
  {
   "cell_type": "code",
   "execution_count": 6,
   "id": "22a78746-a4db-406c-bc0b-7fc13556cad3",
   "metadata": {},
   "outputs": [],
   "source": [
    "url_to_predicted_cluster_id_map = {}\n",
    "for predicted_cluster_id, predicted_cluster in enumerate(tracker[\"clusters\"]):\n",
    "    for image in predicted_cluster:\n",
    "        image_url = image[\"value\"]\n",
    "        url_to_predicted_cluster_id_map[image_url] = predicted_cluster_id\n",
    "for hard_question in tracker[\"hard\"]:\n",
    "    hard_url = hard_question.split(\",\")[0]\n",
    "    url_to_predicted_cluster_id_map[hard_url] = -1\n",
    "    url_to_predicted_cluster_id_map[\".\" + hard_url] = -1\n",
    "    url_to_predicted_cluster_id_map[\"..\" + hard_url] = -1"
   ]
  },
  {
   "cell_type": "markdown",
   "id": "41f660cc-8a00-428f-85df-0d67a71b4ee2",
   "metadata": {},
   "source": [
    "## Display the image"
   ]
  },
  {
   "cell_type": "markdown",
   "id": "d58cd3de-63c5-4366-83b3-203929798eaf",
   "metadata": {},
   "source": [
    "Set `image_url` to the url of the image that you want to look at. You can first use the notebook `images_in_predicted_cluster` or `hard_images` to access to a set of urls. Note that the images url for the birds should not include the . at the beginning, i.e. image url should look like `/Birds/44.jpg` instead of `./Birds/44.jpg`, if working on birds20 images."
   ]
  },
  {
   "cell_type": "code",
   "execution_count": 7,
   "id": "186665d8-201d-4127-9879-36ca7f1a7208",
   "metadata": {},
   "outputs": [],
   "source": [
    "image_url = \"/Birds/44.jpg\""
   ]
  },
  {
   "cell_type": "code",
   "execution_count": 8,
   "id": "8cf52914-e682-4a53-a99a-ea1a21e04acc",
   "metadata": {},
   "outputs": [
    {
     "data": {
      "text/html": [
       "\n",
       "    <style>\n",
       "        #ipyplot-html-viewer-toggle-KvQYXbfRK7mAeo6Gk6o69X {\n",
       "            position: absolute;\n",
       "            top: -9999px;\n",
       "            left: -9999px;\n",
       "            visibility: hidden;\n",
       "        }\n",
       "\n",
       "        #ipyplot-html-viewer-label-KvQYXbfRK7mAeo6Gk6o69X { \n",
       "            position: relative;\n",
       "            display: inline-block;\n",
       "            cursor: pointer;\n",
       "            color: blue;\n",
       "            text-decoration: underline;\n",
       "        }\n",
       "\n",
       "        #ipyplot-html-viewer-textarea-KvQYXbfRK7mAeo6Gk6o69X {\n",
       "            background: lightgrey;\n",
       "            width: 100%;\n",
       "            height: 0px;\n",
       "            display: none;\n",
       "        }\n",
       "\n",
       "        #ipyplot-html-viewer-toggle-KvQYXbfRK7mAeo6Gk6o69X:checked ~ #ipyplot-html-viewer-textarea-KvQYXbfRK7mAeo6Gk6o69X {\n",
       "            height: 200px;\n",
       "            display: block;\n",
       "        }\n",
       "\n",
       "        #ipyplot-html-viewer-toggle-KvQYXbfRK7mAeo6Gk6o69X:checked + #ipyplot-html-viewer-label-KvQYXbfRK7mAeo6Gk6o69X:after {\n",
       "            content: \"hide html\";\n",
       "            position: absolute;\n",
       "            top: 0;\n",
       "            left: 0;\n",
       "            right: 0;\n",
       "            bottom: 0;\n",
       "            background: white;\n",
       "            cursor: pointer;\n",
       "            color: blue;\n",
       "            text-decoration: underline;\n",
       "        }\n",
       "    </style>\n",
       "    <div>\n",
       "        <input type=\"checkbox\" id=\"ipyplot-html-viewer-toggle-KvQYXbfRK7mAeo6Gk6o69X\">\n",
       "        <label id=\"ipyplot-html-viewer-label-KvQYXbfRK7mAeo6Gk6o69X\" for=\"ipyplot-html-viewer-toggle-KvQYXbfRK7mAeo6Gk6o69X\">show html</label>\n",
       "        <textarea id=\"ipyplot-html-viewer-textarea-KvQYXbfRK7mAeo6Gk6o69X\" readonly>\n",
       "            \n",
       "        <style>\n",
       "        #ipyplot-imgs-container-div-TeA6a8hwECb79RotTAs9e2 {\n",
       "            width: 100%;\n",
       "            height: 100%;\n",
       "            margin: 0%;\n",
       "            overflow: auto;\n",
       "            position: relative;\n",
       "            overflow-y: scroll;\n",
       "        }\n",
       "\n",
       "        div.ipyplot-placeholder-div-TeA6a8hwECb79RotTAs9e2 {\n",
       "            width: 300px;\n",
       "            display: inline-block;\n",
       "            margin: 3px;\n",
       "            position: relative;\n",
       "        }\n",
       "\n",
       "        div.ipyplot-content-div-TeA6a8hwECb79RotTAs9e2 {\n",
       "            width: 300px;\n",
       "            background: white;\n",
       "            display: inline-block;\n",
       "            vertical-align: top;\n",
       "            text-align: center;\n",
       "            position: relative;\n",
       "            border: 2px solid #ddd;\n",
       "            top: 0;\n",
       "            left: 0;\n",
       "        }\n",
       "\n",
       "        div.ipyplot-content-div-TeA6a8hwECb79RotTAs9e2 span.ipyplot-img-close {\n",
       "            display: none;\n",
       "        }\n",
       "\n",
       "        div.ipyplot-content-div-TeA6a8hwECb79RotTAs9e2 span {\n",
       "            width: 100%;\n",
       "            height: 100%;\n",
       "            position: absolute;\n",
       "            top: 0;\n",
       "            left: 0;\n",
       "        }\n",
       "\n",
       "        div.ipyplot-content-div-TeA6a8hwECb79RotTAs9e2 img {\n",
       "            width: 300px;\n",
       "        }\n",
       "\n",
       "        div.ipyplot-content-div-TeA6a8hwECb79RotTAs9e2 span.ipyplot-img-close:hover {\n",
       "            cursor: zoom-out;\n",
       "        }\n",
       "        div.ipyplot-content-div-TeA6a8hwECb79RotTAs9e2 span.ipyplot-img-expand:hover {\n",
       "            cursor: zoom-in;\n",
       "        }\n",
       "\n",
       "        div[id^=ipyplot-content-div-TeA6a8hwECb79RotTAs9e2]:target {\n",
       "            transform: scale(2.5);\n",
       "            transform-origin: left top;\n",
       "            z-index: 5000;\n",
       "            top: 0;\n",
       "            left: 0;\n",
       "            position: absolute;\n",
       "        }\n",
       "\n",
       "        div[id^=ipyplot-content-div-TeA6a8hwECb79RotTAs9e2]:target span.ipyplot-img-close {\n",
       "            display: block;\n",
       "        }\n",
       "\n",
       "        div[id^=ipyplot-content-div-TeA6a8hwECb79RotTAs9e2]:target span.ipyplot-img-expand {\n",
       "            display: none;\n",
       "        }\n",
       "        </style>\n",
       "    <div id=\"ipyplot-imgs-container-div-TeA6a8hwECb79RotTAs9e2\">\n",
       "    <div class=\"ipyplot-placeholder-div-TeA6a8hwECb79RotTAs9e2\">\n",
       "        <div id=\"ipyplot-content-div-TeA6a8hwECb79RotTAs9e2-DZxeoWXchjDiPwMxXqPCNc\" class=\"ipyplot-content-div-TeA6a8hwECb79RotTAs9e2\">\n",
       "            <h4 style=\"font-size: 12px; word-wrap: break-word;\">44, predicted cluster: -1</h4>\n",
       "            <h4 style=\"font-size: 9px; padding-left: 10px; padding-right: 10px; width: 95%; word-wrap: break-word; white-space: normal;\">Birds/44.jpg</h4><img src=\"Birds/44.jpg\"/>\n",
       "            <a href=\"#!\">\n",
       "                <span class=\"ipyplot-img-close\"/>\n",
       "            </a>\n",
       "            <a href=\"#ipyplot-content-div-TeA6a8hwECb79RotTAs9e2-DZxeoWXchjDiPwMxXqPCNc\">\n",
       "                <span class=\"ipyplot-img-expand\"/>\n",
       "            </a>\n",
       "        </div>\n",
       "    </div>\n",
       "    </div>\n",
       "        </textarea>\n",
       "    </div>\n",
       "    "
      ],
      "text/plain": [
       "<IPython.core.display.HTML object>"
      ]
     },
     "metadata": {},
     "output_type": "display_data"
    },
    {
     "data": {
      "text/html": [
       "\n",
       "        <style>\n",
       "        #ipyplot-imgs-container-div-TeA6a8hwECb79RotTAs9e2 {\n",
       "            width: 100%;\n",
       "            height: 100%;\n",
       "            margin: 0%;\n",
       "            overflow: auto;\n",
       "            position: relative;\n",
       "            overflow-y: scroll;\n",
       "        }\n",
       "\n",
       "        div.ipyplot-placeholder-div-TeA6a8hwECb79RotTAs9e2 {\n",
       "            width: 300px;\n",
       "            display: inline-block;\n",
       "            margin: 3px;\n",
       "            position: relative;\n",
       "        }\n",
       "\n",
       "        div.ipyplot-content-div-TeA6a8hwECb79RotTAs9e2 {\n",
       "            width: 300px;\n",
       "            background: white;\n",
       "            display: inline-block;\n",
       "            vertical-align: top;\n",
       "            text-align: center;\n",
       "            position: relative;\n",
       "            border: 2px solid #ddd;\n",
       "            top: 0;\n",
       "            left: 0;\n",
       "        }\n",
       "\n",
       "        div.ipyplot-content-div-TeA6a8hwECb79RotTAs9e2 span.ipyplot-img-close {\n",
       "            display: none;\n",
       "        }\n",
       "\n",
       "        div.ipyplot-content-div-TeA6a8hwECb79RotTAs9e2 span {\n",
       "            width: 100%;\n",
       "            height: 100%;\n",
       "            position: absolute;\n",
       "            top: 0;\n",
       "            left: 0;\n",
       "        }\n",
       "\n",
       "        div.ipyplot-content-div-TeA6a8hwECb79RotTAs9e2 img {\n",
       "            width: 300px;\n",
       "        }\n",
       "\n",
       "        div.ipyplot-content-div-TeA6a8hwECb79RotTAs9e2 span.ipyplot-img-close:hover {\n",
       "            cursor: zoom-out;\n",
       "        }\n",
       "        div.ipyplot-content-div-TeA6a8hwECb79RotTAs9e2 span.ipyplot-img-expand:hover {\n",
       "            cursor: zoom-in;\n",
       "        }\n",
       "\n",
       "        div[id^=ipyplot-content-div-TeA6a8hwECb79RotTAs9e2]:target {\n",
       "            transform: scale(2.5);\n",
       "            transform-origin: left top;\n",
       "            z-index: 5000;\n",
       "            top: 0;\n",
       "            left: 0;\n",
       "            position: absolute;\n",
       "        }\n",
       "\n",
       "        div[id^=ipyplot-content-div-TeA6a8hwECb79RotTAs9e2]:target span.ipyplot-img-close {\n",
       "            display: block;\n",
       "        }\n",
       "\n",
       "        div[id^=ipyplot-content-div-TeA6a8hwECb79RotTAs9e2]:target span.ipyplot-img-expand {\n",
       "            display: none;\n",
       "        }\n",
       "        </style>\n",
       "    <div id=\"ipyplot-imgs-container-div-TeA6a8hwECb79RotTAs9e2\">\n",
       "    <div class=\"ipyplot-placeholder-div-TeA6a8hwECb79RotTAs9e2\">\n",
       "        <div id=\"ipyplot-content-div-TeA6a8hwECb79RotTAs9e2-DZxeoWXchjDiPwMxXqPCNc\" class=\"ipyplot-content-div-TeA6a8hwECb79RotTAs9e2\">\n",
       "            <h4 style=\"font-size: 12px; word-wrap: break-word;\">44, predicted cluster: -1</h4>\n",
       "            <h4 style=\"font-size: 9px; padding-left: 10px; padding-right: 10px; width: 95%; word-wrap: break-word; white-space: normal;\">Birds/44.jpg</h4><img src=\"Birds/44.jpg\"/>\n",
       "            <a href=\"#!\">\n",
       "                <span class=\"ipyplot-img-close\"/>\n",
       "            </a>\n",
       "            <a href=\"#ipyplot-content-div-TeA6a8hwECb79RotTAs9e2-DZxeoWXchjDiPwMxXqPCNc\">\n",
       "                <span class=\"ipyplot-img-expand\"/>\n",
       "            </a>\n",
       "        </div>\n",
       "    </div>\n",
       "    </div>"
      ],
      "text/plain": [
       "<IPython.core.display.HTML object>"
      ]
     },
     "metadata": {},
     "output_type": "display_data"
    }
   ],
   "source": [
    "ipyplot.plot_images([(\".\" if \"Birds\" in image_url else \"\") + image_url],\n",
    "                    [str(url_to_image_id_map[image_url]) + \", predicted cluster: %d\" % url_to_predicted_cluster_id_map[image_url]],\n",
    "                    max_images=1,\n",
    "                    img_width=300)"
   ]
  },
  {
   "cell_type": "markdown",
   "id": "ed4b78e2-9234-4cac-b271-c2665f472bac",
   "metadata": {},
   "source": [
    "## Display the images that this image has been queried with"
   ]
  },
  {
   "cell_type": "code",
   "execution_count": 9,
   "id": "5eda8595-db87-48a5-b486-4948e7b99ea0",
   "metadata": {},
   "outputs": [],
   "source": [
    "num_clusters = len(tracker[\"clusters\"])"
   ]
  },
  {
   "cell_type": "code",
   "execution_count": 10,
   "id": "6c07b1b8-e521-47ff-a5ea-7204dac6e13e",
   "metadata": {},
   "outputs": [],
   "source": [
    "queried_with = {i: [] for i in range(num_clusters)}"
   ]
  },
  {
   "cell_type": "code",
   "execution_count": 11,
   "id": "6d77f63d-7690-46c9-ac5a-c2f1635ed146",
   "metadata": {},
   "outputs": [],
   "source": [
    "for worker in workers:\n",
    "    for answer in worker[\"result\"]:\n",
    "        left_url = answer[\"pair\"][\"left\"]\n",
    "        right_url = answer[\"pair\"][\"right\"]\n",
    "        classification = answer[\"classification\"]\n",
    "        if left_url == image_url:\n",
    "            queried_with[url_to_predicted_cluster_id_map[right_url]].append((right_url, classification))"
   ]
  },
  {
   "cell_type": "code",
   "execution_count": 12,
   "id": "2751b3b8-b9ac-4161-aca8-6aaadcbfae99",
   "metadata": {},
   "outputs": [
    {
     "name": "stdout",
     "output_type": "stream",
     "text": [
      "This image has been queried with images from the following clusters:\n"
     ]
    },
    {
     "data": {
      "text/plain": [
       "[0, 1, 2, 3, 4, 5, 6, 7, 8, 9, 10, 11, 12, 13, 14, 15, 16, 17, 18, 19]"
      ]
     },
     "execution_count": 12,
     "metadata": {},
     "output_type": "execute_result"
    }
   ],
   "source": [
    "print(\"This image has been queried with images from the following clusters:\")\n",
    "list(map(lambda x: x[0], (filter(lambda x: len(x[1]) != 0, queried_with.items()))))"
   ]
  },
  {
   "cell_type": "markdown",
   "id": "99ee65ff-9f59-4462-bcec-4af11140d658",
   "metadata": {},
   "source": [
    "Set `queried_with_cluster` to one of the cluster id in the list printed above."
   ]
  },
  {
   "cell_type": "code",
   "execution_count": 13,
   "id": "41ed7b8e-3489-4917-b38a-e5be6d9d453a",
   "metadata": {},
   "outputs": [],
   "source": [
    "queried_with_cluster = 5"
   ]
  },
  {
   "cell_type": "code",
   "execution_count": 14,
   "id": "820267a9-d7ef-49f2-99cf-520b6f656d9e",
   "metadata": {},
   "outputs": [
    {
     "name": "stdout",
     "output_type": "stream",
     "text": [
      "Queried with Cluster ID: 5\n"
     ]
    },
    {
     "data": {
      "text/html": [
       "\n",
       "        <div class=\"row\">\n",
       "            <h5>Worker's Answer: 0</h5>\n",
       "            <img src=./Birds/61.jpg style=\"width:250px\"/>\n",
       "        </div>\n",
       "    "
      ],
      "text/plain": [
       "<IPython.core.display.HTML object>"
      ]
     },
     "metadata": {},
     "output_type": "display_data"
    },
    {
     "data": {
      "text/html": [
       "\n",
       "        <div class=\"row\">\n",
       "            <h5>Worker's Answer: 0</h5>\n",
       "            <img src=./Birds/61.jpg style=\"width:250px\"/>\n",
       "        </div>\n",
       "    "
      ],
      "text/plain": [
       "<IPython.core.display.HTML object>"
      ]
     },
     "metadata": {},
     "output_type": "display_data"
    },
    {
     "data": {
      "text/html": [
       "\n",
       "        <div class=\"row\">\n",
       "            <h5>Worker's Answer: 0</h5>\n",
       "            <img src=./Birds/61.jpg style=\"width:250px\"/>\n",
       "        </div>\n",
       "    "
      ],
      "text/plain": [
       "<IPython.core.display.HTML object>"
      ]
     },
     "metadata": {},
     "output_type": "display_data"
    },
    {
     "data": {
      "text/html": [
       "\n",
       "        <div class=\"row\">\n",
       "            <h5>Worker's Answer: 0</h5>\n",
       "            <img src=./Birds/61.jpg style=\"width:250px\"/>\n",
       "        </div>\n",
       "    "
      ],
      "text/plain": [
       "<IPython.core.display.HTML object>"
      ]
     },
     "metadata": {},
     "output_type": "display_data"
    },
    {
     "data": {
      "text/html": [
       "\n",
       "        <div class=\"row\">\n",
       "            <h5>Worker's Answer: 0</h5>\n",
       "            <img src=./Birds/61.jpg style=\"width:250px\"/>\n",
       "        </div>\n",
       "    "
      ],
      "text/plain": [
       "<IPython.core.display.HTML object>"
      ]
     },
     "metadata": {},
     "output_type": "display_data"
    }
   ],
   "source": [
    "print(\"Queried with Cluster ID: %d\" % queried_with_cluster)\n",
    "for url, classification in queried_with[queried_with_cluster]:\n",
    "    if \"Birds\" in url:\n",
    "        url = \".\" + url\n",
    "    display(HTML(f\"\"\"\n",
    "        <div class=\"row\">\n",
    "            <h5>Worker's Answer: {classification}</h5>\n",
    "            <img src={url} style=\"width:250px\"/>\n",
    "        </div>\n",
    "    \"\"\"))"
   ]
  }
 ],
 "metadata": {
  "kernelspec": {
   "display_name": "Python 3 (ipykernel)",
   "language": "python",
   "name": "python3"
  },
  "language_info": {
   "codemirror_mode": {
    "name": "ipython",
    "version": 3
   },
   "file_extension": ".py",
   "mimetype": "text/x-python",
   "name": "python",
   "nbconvert_exporter": "python",
   "pygments_lexer": "ipython3",
   "version": "3.9.12"
  }
 },
 "nbformat": 4,
 "nbformat_minor": 5
}
