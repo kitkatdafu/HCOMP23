{
 "cells": [
  {
   "cell_type": "code",
   "execution_count": 7,
   "metadata": {},
   "outputs": [],
   "source": [
    "import pandas as pd\n",
    "import numpy as np\n",
    "from random import sample\n",
    "from itertools import combinations\n",
    "from scipy.io import loadmat, savemat\n",
    "from sklearn.cluster import SpectralClustering, KMeans\n",
    "from typing import Sequence, List, Set\n",
    "from clustering import spectral_partition\n",
    "import random\n",
    "import math\n"
   ]
  },
  {
   "cell_type": "code",
   "execution_count": 8,
   "metadata": {},
   "outputs": [],
   "source": [
    "def clustering_to_labeling(clusters):\n",
    "    labels = np.zeros(sum(map(len, clusters)), dtype=int)\n",
    "    for k, cluster in enumerate(clusters):\n",
    "        for v in cluster:\n",
    "            labels[v] = k\n",
    "    return labels\n"
   ]
  },
  {
   "cell_type": "code",
   "execution_count": 9,
   "metadata": {},
   "outputs": [],
   "source": [
    "def vi(predicted_labels: Sequence[int],\n",
    "       true_labels: Sequence[int]) -> float:\n",
    "    def expand(labels: Sequence[int]) -> List[Set[int]]:\n",
    "        expanded = {label: set() for label in labels}\n",
    "        for node, label in enumerate(labels):\n",
    "            expanded[label].add(node)\n",
    "        return list(expanded.values())\n",
    "\n",
    "    n = len(predicted_labels)\n",
    "    predicted = expand(predicted_labels)\n",
    "    p = list(map(lambda x: len(x) / n, predicted))\n",
    "    true = expand(true_labels)\n",
    "    q = list(map(lambda x: len(x) / n, true))\n",
    "    r = [[len(predicted[i].intersection(true[j])) / n\n",
    "          for j in range(len(true))]\n",
    "         for i in range(len(predicted))]\n",
    "    vi = sum([r[i][j] * (np.log(r[i][j] / p[i]) + np.log(r[i][j] / q[j]))\n",
    "              if r[i][j] > 0 else 0\n",
    "              for j in range(len(true))\n",
    "              for i in range(len(predicted))]) * -1\n",
    "    return abs(vi)\n"
   ]
  },
  {
   "cell_type": "code",
   "execution_count": 10,
   "metadata": {},
   "outputs": [],
   "source": [
    "def label_to_cluster(labels):\n",
    "    num_clusters = len(set(labels))\n",
    "    v_hat = [set() for _ in range(num_clusters)]\n",
    "    for i, label in enumerate(labels):\n",
    "        v_hat[label].add(i)\n",
    "    return v_hat"
   ]
  },
  {
   "cell_type": "code",
   "execution_count": 11,
   "metadata": {},
   "outputs": [],
   "source": [
    "from itertools import product\n",
    "\n",
    "\n",
    "def edge_error_rate(predicted_v, true_v):\n",
    "    n = sum(map(len, true_v))\n",
    "    A_hat = np.zeros((n, n), dtype=int)\n",
    "    A = np.zeros((n, n), dtype=int)\n",
    "    for cluster in map(list, predicted_v):\n",
    "        for i, j in product(cluster, cluster):\n",
    "            A_hat[i, j] = 1\n",
    "    for cluster in map(list, true_v):\n",
    "        for i, j in product(cluster, cluster):\n",
    "            A[i, j] = 1\n",
    "    return (A_hat != A).sum() / (n * n)\n"
   ]
  },
  {
   "cell_type": "code",
   "execution_count": 12,
   "metadata": {},
   "outputs": [],
   "source": [
    "T = 813210\n",
    "K = 90\n",
    "pair_prob_mat = loadmat(f'../../mat/pair_prob_mat_K={K}.mat')['P']\n",
    "labels_true = sum([[_k] * int(900 / K) for _k in range(K)], [])"
   ]
  },
  {
   "cell_type": "code",
   "execution_count": 13,
   "metadata": {},
   "outputs": [],
   "source": [
    "from random import choices\n",
    "random.seed(0)\n",
    "np.random.seed(0)\n",
    "\n",
    "yun_vi_s = []\n",
    "yun_err_s = []\n",
    "\n",
    "for it in range(10):\n",
    "    A = np.zeros((900, 900), dtype=int)\n",
    "    for i, j in choices(list(product(range(900), range(900))), k=T):\n",
    "        A[i, j] += 1 if np.random.uniform() < pair_prob_mat[i, j] else 0\n",
    "\n",
    "    cluster_yun = spectral_partition(A)\n",
    "    labels_yun = clustering_to_labeling(cluster_yun)\n",
    "    voi_yun = vi(labels_yun, labels_true)\n",
    "    edge_err_yun = edge_error_rate(cluster_yun, label_to_cluster(labels_true))\n",
    "\n",
    "    yun_vi_s.append(voi_yun)\n",
    "    yun_err_s.append(edge_err_yun)"
   ]
  }
 ],
 "metadata": {
  "kernelspec": {
   "display_name": "Python 3.9.13 ('base')",
   "language": "python",
   "name": "python3"
  },
  "language_info": {
   "codemirror_mode": {
    "name": "ipython",
    "version": 3
   },
   "file_extension": ".py",
   "mimetype": "text/x-python",
   "name": "python",
   "nbconvert_exporter": "python",
   "pygments_lexer": "ipython3",
   "version": "3.9.13"
  },
  "orig_nbformat": 4,
  "vscode": {
   "interpreter": {
    "hash": "50ed59304d9afbc1054070e7f5e28bcac6e732cc8b8985f0434243d498546bc2"
   }
  }
 },
 "nbformat": 4,
 "nbformat_minor": 2
}
