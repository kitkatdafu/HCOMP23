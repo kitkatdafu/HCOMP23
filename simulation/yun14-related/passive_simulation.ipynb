{
 "cells": [
  {
   "cell_type": "code",
   "execution_count": 15,
   "metadata": {},
   "outputs": [],
   "source": [
    "import pandas as pd\n",
    "import numpy as np\n",
    "from random import sample\n",
    "from itertools import combinations\n",
    "from scipy.io import loadmat, savemat\n",
    "from sklearn.cluster import SpectralClustering, KMeans\n",
    "from typing import Sequence, List, Set\n",
    "from clustering import spectral_partition\n",
    "import random\n",
    "import math"
   ]
  },
  {
   "cell_type": "code",
   "execution_count": 16,
   "metadata": {},
   "outputs": [],
   "source": [
    "def clustering_to_labeling(clusters):\n",
    "    labels = np.zeros(sum(map(len, clusters)), dtype=int)\n",
    "    for k, cluster in enumerate(clusters):\n",
    "        for v in cluster:\n",
    "            labels[v] = k\n",
    "    return labels"
   ]
  },
  {
   "cell_type": "code",
   "execution_count": 17,
   "metadata": {},
   "outputs": [],
   "source": [
    "def vi(predicted_labels: Sequence[int],\n",
    "       true_labels: Sequence[int]) -> float:\n",
    "    def expand(labels: Sequence[int]) -> List[Set[int]]:\n",
    "        expanded = {label: set() for label in labels}\n",
    "        for node, label in enumerate(labels):\n",
    "            expanded[label].add(node)\n",
    "        return list(expanded.values())\n",
    "\n",
    "    n = len(predicted_labels)\n",
    "    predicted = expand(predicted_labels)\n",
    "    p = list(map(lambda x: len(x) / n, predicted))\n",
    "    true = expand(true_labels)\n",
    "    q = list(map(lambda x: len(x) / n, true))\n",
    "    r = [[len(predicted[i].intersection(true[j])) / n\n",
    "          for j in range(len(true))]\n",
    "         for i in range(len(predicted))]\n",
    "    vi = sum([r[i][j] * (np.log(r[i][j] / p[i]) + np.log(r[i][j] / q[j]))\n",
    "              if r[i][j] > 0 else 0\n",
    "              for j in range(len(true))\n",
    "              for i in range(len(predicted))]) * -1\n",
    "    return abs(vi)\n"
   ]
  },
  {
   "cell_type": "code",
   "execution_count": 18,
   "metadata": {},
   "outputs": [],
   "source": [
    "def label_to_cluster(labels):\n",
    "    num_clusters = len(set(labels))\n",
    "    v_hat = [set() for _ in range(num_clusters)]\n",
    "    for i, label in enumerate(labels):\n",
    "        v_hat[label].add(i)\n",
    "    return v_hat"
   ]
  },
  {
   "cell_type": "code",
   "execution_count": 19,
   "metadata": {},
   "outputs": [],
   "source": [
    "from itertools import product\n",
    "\n",
    "\n",
    "def edge_error_rate(predicted_v, true_v):\n",
    "    n = sum(map(len, true_v))\n",
    "    A_hat = np.zeros((n, n), dtype=int)\n",
    "    A = np.zeros((n, n), dtype=int)\n",
    "    for cluster in map(list, predicted_v):\n",
    "        for i, j in product(cluster, cluster):\n",
    "            A_hat[i, j] = 1\n",
    "    for cluster in map(list, true_v):\n",
    "        for i, j in product(cluster, cluster):\n",
    "            A[i, j] = 1\n",
    "    return (A_hat != A).sum() / (n * n)"
   ]
  },
  {
   "cell_type": "code",
   "execution_count": 20,
   "metadata": {},
   "outputs": [],
   "source": [
    "n = 900"
   ]
  },
  {
   "cell_type": "code",
   "execution_count": null,
   "metadata": {},
   "outputs": [],
   "source": [
    "k_pred_s = [14, 24]\n",
    "ks = [3, 30]\n",
    "ts = [41014, 277367]\n",
    "\n",
    "\n",
    "for at in range(4):\n",
    "    K_pred = k_pred_s[at]\n",
    "    K = ks[at]\n",
    "    T = ts[at]\n",
    "    labels_true = sum([[_k] * int(n / K) for _k in range(K)], [])\n",
    "\n",
    "    pair_prob_mat = loadmat(f'../../mat/pair_prob_mat_K={K}.mat')['P']\n",
    "\n",
    "\n",
    "    repeats = np.array([1]) if K < 90 else np.array([1, 3, 5])\n",
    "    for repeat in repeats:\n",
    "\n",
    "        A_at = []\n",
    "        F_at = []\n",
    "        Yun_at = []\n",
    "\n",
    "        for it in range(10):\n",
    "\n",
    "            np.random.seed(it)\n",
    "            random.seed(it)\n",
    "\n",
    "            A = np.zeros((n, n), dtype=int)\n",
    "            F = np.zeros((n, n), dtype=int)\n",
    "            Yun = np.zeros((n, n), dtype=int)\n",
    "            num_samples = math.ceil(T / repeat)\n",
    "            if K >= 90 and repeat == 1:\n",
    "                num_samples = int(900 * 899 / 2)\n",
    "\n",
    "            pairs = sample(list(combinations(range(n), 2)), num_samples)\n",
    "\n",
    "            for i, j in pairs:\n",
    "                num_ones = (np.random.random(size=repeat) < pair_prob_mat[i, j]).sum()\n",
    "                Yun[i, j] += num_ones\n",
    "                F[i, j] += repeat\n",
    "                F[j, i] += repeat\n",
    "                if num_ones > repeat / 2:\n",
    "                    A[i, j] = 1\n",
    "                    A[j, i] = 1\n",
    "                else:\n",
    "                    A[i, j] = 0\n",
    "                    A[j, i] = 0\n",
    "\n",
    "            A_at.append(A)\n",
    "            F_at.append(F)\n",
    "            Yun_at.append(Yun)\n",
    "\n",
    "        # savemat(f'./adjK{K}R{repeat}.mat', {f'AK{K}R{repeat}': A_at})\n",
    "        # savemat(f'./FK{K}R{repeat}.mat', {f'FK{K}R{repeat}': F_at})\n",
    "        # savemat(f'./YunK{K}R{repeat}.mat', {f'YunK{K}R{repeat}': Yun_at})"
   ]
  }
 ],
 "metadata": {
  "kernelspec": {
   "display_name": "Python 3.9.13 ('base')",
   "language": "python",
   "name": "python3"
  },
  "language_info": {
   "codemirror_mode": {
    "name": "ipython",
    "version": 3
   },
   "file_extension": ".py",
   "mimetype": "text/x-python",
   "name": "python",
   "nbconvert_exporter": "python",
   "pygments_lexer": "ipython3",
   "version": "3.9.16"
  },
  "orig_nbformat": 4,
  "vscode": {
   "interpreter": {
    "hash": "50ed59304d9afbc1054070e7f5e28bcac6e732cc8b8985f0434243d498546bc2"
   }
  }
 },
 "nbformat": 4,
 "nbformat_minor": 2
}
